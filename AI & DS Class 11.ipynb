{
 "cells": [
  {
   "cell_type": "code",
   "execution_count": 4,
   "metadata": {},
   "outputs": [
    {
     "name": "stdout",
     "output_type": "stream",
     "text": [
      "Enter a number3\n",
      "Yeah! I have handled that error\n",
      "Finally will always run\n"
     ]
    }
   ],
   "source": [
    "aa = [1,2,3]\n",
    "try:\n",
    "    a = int(input(\"Enter a number\"))\n",
    "    print(aa[a])\n",
    "except IndexError:\n",
    "    print(\"Yeah! I have handled that error\")\n",
    "finally:\n",
    "    print(\"Finally will always run\")"
   ]
  },
  {
   "cell_type": "code",
   "execution_count": 4,
   "metadata": {},
   "outputs": [
    {
     "name": "stdout",
     "output_type": "stream",
     "text": [
      "Enter a number11\n",
      "Enter a number\n",
      "Beta Insaan Ban Or Value Dal\n"
     ]
    }
   ],
   "source": [
    "try:\n",
    "    a = int(input(\"Enter a number\"))\n",
    "    b = int(input(\"Enter a number\"))\n",
    "    d = []\n",
    "    c = a/b\n",
    "    #print(d[2])\n",
    "    print(c)\n",
    "except ZeroDivisionError:\n",
    "    print('Exception is caught ZeroDivisionError')\n",
    "except IndexError:\n",
    "    print('Yeah! I have handled that error')\n",
    "except ValueError:\n",
    "    print('Beta Insaan Ban Or Value Dal')\n",
    "else:\n",
    "    print(\"Nahi i\")"
   ]
  },
  {
   "cell_type": "code",
   "execution_count": 6,
   "metadata": {},
   "outputs": [],
   "source": [
    "class Student():\n",
    "    def __init__(self,name,age):\n",
    "        if age > 80 or age < 16:\n",
    "            raise Exception('Age can not be greater then 80 or Less Than 16')\n",
    "        self.name = name\n",
    "        self.age = age"
   ]
  },
  {
   "cell_type": "code",
   "execution_count": 8,
   "metadata": {},
   "outputs": [
    {
     "name": "stdout",
     "output_type": "stream",
     "text": [
      "Enter students age: 23\n",
      "23\n"
     ]
    }
   ],
   "source": [
    "age = int(input(\"Enter students age: \"))\n",
    "st = Student(\"Ali\",age)\n",
    "\n",
    "print(st.age)"
   ]
  },
  {
   "cell_type": "code",
   "execution_count": 9,
   "metadata": {},
   "outputs": [],
   "source": [
    "class Student():\n",
    "    def __init__(self,name,age):\n",
    "        if age > 80 or age < 16:\n",
    "            raise Exception('Age can not be greater then 80 or Less Than 16')\n",
    "        self.name = name\n",
    "        self.age = age"
   ]
  },
  {
   "cell_type": "code",
   "execution_count": 11,
   "metadata": {},
   "outputs": [
    {
     "name": "stdout",
     "output_type": "stream",
     "text": [
      "Enter Sudents Age:9\n",
      "Exception Age can not be greater then 80 or Less Than 16\n"
     ]
    }
   ],
   "source": [
    "try:\n",
    "    age = int(input(\"Enter Sudents Age:\"))\n",
    "    st = Student(\"Hello\",age)\n",
    "except Exception as e:\n",
    "    print(\"Exception \"+str(e))\n",
    "else:\n",
    "    print(st.age)"
   ]
  },
  {
   "cell_type": "markdown",
   "metadata": {},
   "source": [
    "# Types of Programming Paradigms"
   ]
  },
  {
   "cell_type": "code",
   "execution_count": 12,
   "metadata": {},
   "outputs": [],
   "source": [
    "#Procedure Oriented Programming\n",
    "#Functional Programming\n",
    "#Object Oriented Programming"
   ]
  },
  {
   "cell_type": "code",
   "execution_count": null,
   "metadata": {},
   "outputs": [],
   "source": []
  }
 ],
 "metadata": {
  "kernelspec": {
   "display_name": "Python 3",
   "language": "python",
   "name": "python3"
  }
 },
 "nbformat": 4,
 "nbformat_minor": 4
}
