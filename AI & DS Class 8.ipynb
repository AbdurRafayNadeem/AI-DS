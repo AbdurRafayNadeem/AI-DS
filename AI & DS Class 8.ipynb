{
 "cells": [
  {
   "cell_type": "code",
   "execution_count": 23,
   "metadata": {},
   "outputs": [
    {
     "name": "stdout",
     "output_type": "stream",
     "text": [
      "{}\n"
     ]
    }
   ],
   "source": [
    "#My Try\n",
    "adict = {}\n",
    "def make_album(name,album):\n",
    "    name = adict.keys()\n",
    "    album= adict.items() \n",
    "    adict.update(name)\n",
    "    adict.update(album)\n",
    "    return adict\n",
    "print(adict)"
   ]
  },
  {
   "cell_type": "code",
   "execution_count": 24,
   "metadata": {},
   "outputs": [
    {
     "data": {
      "text/plain": [
       "{}"
      ]
     },
     "execution_count": 24,
     "metadata": {},
     "output_type": "execute_result"
    }
   ],
   "source": [
    "make_album('ali','aolbum1')\n"
   ]
  },
  {
   "cell_type": "code",
   "execution_count": 27,
   "metadata": {},
   "outputs": [],
   "source": [
    "def make_album(artist_name,album_title):\n",
    "    adic = {\"artist_name\":artist_name,\"album_title\":album_title}\n",
    "    return adic"
   ]
  },
  {
   "cell_type": "code",
   "execution_count": 28,
   "metadata": {},
   "outputs": [
    {
     "data": {
      "text/plain": [
       "{'artist_name': 'ali', 'album_title': 'album1'}"
      ]
     },
     "execution_count": 28,
     "metadata": {},
     "output_type": "execute_result"
    }
   ],
   "source": [
    "make_album('ali','album1')"
   ]
  },
  {
   "cell_type": "code",
   "execution_count": 29,
   "metadata": {},
   "outputs": [],
   "source": [
    "def make_album1(artist_name,album_title):\n",
    "    adic = {\"artist_name\":artist_name,\"album_title\":album_title}\n",
    "    return adic"
   ]
  },
  {
   "cell_type": "code",
   "execution_count": 31,
   "metadata": {},
   "outputs": [],
   "source": [
    "album1 = make_album1(\"Atif\",\"WoLamhe\")\n",
    "album2 = make_album1(\"NFAK\",\"DilLagi\")\n",
    "album3 = make_album1(\"AimaBaig\",\"CokeStudio\")"
   ]
  },
  {
   "cell_type": "code",
   "execution_count": 32,
   "metadata": {},
   "outputs": [
    {
     "name": "stdout",
     "output_type": "stream",
     "text": [
      "{'artist_name': 'Atif', 'album_title': 'WoLamhe'} {'artist_name': 'NFAK', 'album_title': 'DilLagi'} {'artist_name': 'AimaBaig', 'album_title': 'CokeStudio'}\n"
     ]
    }
   ],
   "source": [
    "print(album1,album2,album3)"
   ]
  },
  {
   "cell_type": "code",
   "execution_count": 40,
   "metadata": {},
   "outputs": [],
   "source": [
    "def make_album2(artist_name,album_title,tracks=''):\n",
    "    adict = {\"artist_name\":artist_name,\"album_title\":album_title}\n",
    "    if tracks:\n",
    "        adict['tracks'] = tracks\n",
    "    return adict"
   ]
  },
  {
   "cell_type": "code",
   "execution_count": 43,
   "metadata": {},
   "outputs": [],
   "source": [
    "album1 = make_album2(\"Atif\",\"WoLamhe\",10)\n",
    "album2 = make_album2(\"NFAK\",\"DilLagi\",25)\n",
    "album3 = make_album2(\"AimaBaig\",\"CokeStudio\",0) "
   ]
  },
  {
   "cell_type": "code",
   "execution_count": 44,
   "metadata": {},
   "outputs": [
    {
     "name": "stdout",
     "output_type": "stream",
     "text": [
      "{'artist_name': 'Atif', 'album_title': 'WoLamhe', 'tracks': 10}\n",
      "{'artist_name': 'NFAK', 'album_title': 'DilLagi', 'tracks': 25}\n",
      "{'artist_name': 'AimaBaig', 'album_title': 'CokeStudio'}\n"
     ]
    }
   ],
   "source": [
    "print(album1)\n",
    "print(album2)\n",
    "print(album3)"
   ]
  },
  {
   "cell_type": "code",
   "execution_count": 60,
   "metadata": {},
   "outputs": [],
   "source": [
    "#My Try\n",
    "def make_album3(artist_name,album_title,tracks=''):\n",
    "    adict = {\"artist_name\":artist_name,\"album_title\":album_title}\n",
    "    while(True):\n",
    "        artist_name = input(\"Enter Artist name\")\n",
    "        album_title = input(\"Enter Album name press q to exit\")\n",
    "        if artist_name ==\"q\" or album_title == \"q\":\n",
    "            break"
   ]
  },
  {
   "cell_type": "code",
   "execution_count": 61,
   "metadata": {},
   "outputs": [
    {
     "ename": "TypeError",
     "evalue": "make_album3() missing 2 required positional arguments: 'artist_name' and 'album_title'",
     "output_type": "error",
     "traceback": [
      "\u001b[1;31m---------------------------------------------------------------------------\u001b[0m",
      "\u001b[1;31mTypeError\u001b[0m                                 Traceback (most recent call last)",
      "\u001b[1;32m<ipython-input-61-cf38af3e27f4>\u001b[0m in \u001b[0;36m<module>\u001b[1;34m\u001b[0m\n\u001b[1;32m----> 1\u001b[1;33m \u001b[0mmake_album3\u001b[0m\u001b[1;33m(\u001b[0m\u001b[1;33m)\u001b[0m\u001b[1;33m\u001b[0m\u001b[1;33m\u001b[0m\u001b[0m\n\u001b[0m",
      "\u001b[1;31mTypeError\u001b[0m: make_album3() missing 2 required positional arguments: 'artist_name' and 'album_title'"
     ]
    }
   ],
   "source": [
    "make_album3()"
   ]
  },
  {
   "cell_type": "code",
   "execution_count": 65,
   "metadata": {},
   "outputs": [],
   "source": [
    "#Sir's code here\n",
    "def make_album4(artist_name,album_title,track=None):\n",
    "    pass\n",
    "    "
   ]
  },
  {
   "cell_type": "code",
   "execution_count": 93,
   "metadata": {},
   "outputs": [],
   "source": [
    "def comm_calc(sales):\n",
    "    comm = 0\n",
    "    if sales < 50:\n",
    "        comm = 0\n",
    "    elif sales >=50 and sales <100:\n",
    "        comm = 10\n",
    "    elif sales >= 100 and sales <120:\n",
    "        comm = 12\n",
    "    else:\n",
    "        comm = 15\n",
    "    total_add = basic_salary*comm/100\n",
    "    return total_add"
   ]
  },
  {
   "cell_type": "code",
   "execution_count": 94,
   "metadata": {},
   "outputs": [],
   "source": [
    "def tax_calc(basic_salary):\n",
    "    tax_ded = 0\n",
    "    if basic_salary<30000:\n",
    "        tax_ded = 0\n",
    "    elif basic_salary>=30000 and basic_salary<50000:\n",
    "        tax_ded = 5\n",
    "    elif basic_salary >=50000 and basic_salary < 100000:\n",
    "        tax_ded = 10\n",
    "    else:\n",
    "        tax_ded = 15\n",
    "    total_ded = basic_salary*tax_ded/100\n",
    "    return total_ded"
   ]
  },
  {
   "cell_type": "code",
   "execution_count": 95,
   "metadata": {},
   "outputs": [],
   "source": [
    "def salaryCalc(basic_salary):\n",
    "    tax_calc(basic_salary)\n",
    "    comm_calc(sales)\n",
    "    gross_salary = basic_salary - tax_calc(basic_salary) + comm_calc(sales)\n",
    "    return gross_salary"
   ]
  },
  {
   "cell_type": "code",
   "execution_count": 98,
   "metadata": {},
   "outputs": [
    {
     "name": "stdout",
     "output_type": "stream",
     "text": [
      "\n",
      " Enter the basic salary of the employee60000\n",
      "\n",
      " Enter the number of sales101\n",
      "The gorss salary of the employee is 61200.0\n"
     ]
    }
   ],
   "source": [
    "basic_salary = int(input(\"\\n Enter the basic salary of the employee\"))\n",
    "sales = int(input(\"\\n Enter the number of sales\"))\n",
    "\n",
    "#gross_salary = salaryCalc(basic_salary)\n",
    "print(f\"The gorss salary of the employee is {salaryCalc(basic_salary)}\")"
   ]
  },
  {
   "cell_type": "code",
   "execution_count": null,
   "metadata": {},
   "outputs": [],
   "source": []
  }
 ],
 "metadata": {
  "kernelspec": {
   "display_name": "Python 3",
   "language": "python",
   "name": "python3"
  },
  "language_info": {
   "codemirror_mode": {
    "name": "ipython",
    "version": 3
   },
   "file_extension": ".py",
   "mimetype": "text/x-python",
   "name": "python",
   "nbconvert_exporter": "python",
   "pygments_lexer": "ipython3",
   "version": "3.7.6"
  }
 },
 "nbformat": 4,
 "nbformat_minor": 4
}
