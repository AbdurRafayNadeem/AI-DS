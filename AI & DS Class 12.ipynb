{
 "cells": [
  {
   "cell_type": "code",
   "execution_count": 1,
   "metadata": {},
   "outputs": [],
   "source": [
    "class Dog():\n",
    "    #Characteristics/Attributes/Properties\n",
    "    name = \"Tommy\"\n",
    "    age = 5\n",
    "    breed = \"German Shepherd\"\n",
    "    color = \"Brown\"\n",
    "    \n",
    "    #Behaviour/Actions >>>>> methods/functions\n",
    "    def bark ():\n",
    "        pass\n",
    "    def walk ():\n",
    "        pass\n",
    "    def rollover():\n",
    "        pass\n",
    "    def bite ():\n",
    "        pass\n",
    "        "
   ]
  },
  {
   "cell_type": "code",
   "execution_count": 2,
   "metadata": {},
   "outputs": [],
   "source": [
    "dog1 = Dog()"
   ]
  },
  {
   "cell_type": "code",
   "execution_count": 4,
   "metadata": {},
   "outputs": [
    {
     "data": {
      "text/plain": [
       "'Tommy'"
      ]
     },
     "execution_count": 4,
     "metadata": {},
     "output_type": "execute_result"
    }
   ],
   "source": [
    "dog1.name"
   ]
  },
  {
   "cell_type": "code",
   "execution_count": 53,
   "metadata": {},
   "outputs": [],
   "source": [
    "class Dog1():\n",
    "    tail = 'Terhi'\n",
    "    def __init__(self,name,age,breed,color):\n",
    "        self.dog_name = name\n",
    "        self.dog_age = age\n",
    "        self.dog_breed = breed\n",
    "        self.dog_color = color\n",
    "        print(\"Dog create hogaya hay\")\n",
    "    def bark(self):\n",
    "        print(f\"{self.dog_name } is barking\")\n",
    "    def walk():\n",
    "        pass\n",
    "    def rollover():\n",
    "        pass\n",
    "    def bite():\n",
    "        pass\n",
    "    "
   ]
  },
  {
   "cell_type": "code",
   "execution_count": 56,
   "metadata": {},
   "outputs": [
    {
     "name": "stdout",
     "output_type": "stream",
     "text": [
      "Dog create hogaya hay\n"
     ]
    }
   ],
   "source": [
    "First_Dog = Dog1('Tommy',5,'German Shepherd','Black')"
   ]
  },
  {
   "cell_type": "code",
   "execution_count": 57,
   "metadata": {},
   "outputs": [
    {
     "data": {
      "text/plain": [
       "'Tommy'"
      ]
     },
     "execution_count": 57,
     "metadata": {},
     "output_type": "execute_result"
    }
   ],
   "source": [
    "First_Dog.dog_name"
   ]
  },
  {
   "cell_type": "code",
   "execution_count": 40,
   "metadata": {},
   "outputs": [
    {
     "name": "stdout",
     "output_type": "stream",
     "text": [
      "Tommy is barking\n"
     ]
    }
   ],
   "source": [
    "Dog1.bark(First_Dog)"
   ]
  },
  {
   "cell_type": "code",
   "execution_count": 58,
   "metadata": {},
   "outputs": [
    {
     "data": {
      "text/plain": [
       "'Terhi'"
      ]
     },
     "execution_count": 58,
     "metadata": {},
     "output_type": "execute_result"
    }
   ],
   "source": [
    "First_Dog.tail\n"
   ]
  },
  {
   "cell_type": "code",
   "execution_count": 59,
   "metadata": {},
   "outputs": [],
   "source": [
    "class Human():\n",
    "    def __init__(self,name,age,gender,blood_group):\n",
    "        self.human_name = name\n",
    "        self.human_age = age\n",
    "        self.gender = gender\n",
    "        self.blood_group = blood_group\n",
    "        print(\"Human Is Created\")\n",
    "    def name():\n",
    "        pass\n",
    "    def gender(self):\n",
    "        print(f\"{self.human_name}'s Gender Is  {self.gender}\")\n",
    "    def bloodgroup():\n",
    "        pass\n"
   ]
  },
  {
   "cell_type": "code",
   "execution_count": 60,
   "metadata": {},
   "outputs": [
    {
     "name": "stdout",
     "output_type": "stream",
     "text": [
      "Human Is Created\n"
     ]
    }
   ],
   "source": [
    "human1 = Human('Rafay',22,'Male','B+')"
   ]
  },
  {
   "cell_type": "code",
   "execution_count": 61,
   "metadata": {},
   "outputs": [
    {
     "name": "stdout",
     "output_type": "stream",
     "text": [
      "Rafay's Gender Is  Male\n"
     ]
    }
   ],
   "source": [
    "Human.gender(human1)"
   ]
  },
  {
   "cell_type": "code",
   "execution_count": 62,
   "metadata": {},
   "outputs": [],
   "source": [
    "First_Dog.tail = 'Seedhi'"
   ]
  },
  {
   "cell_type": "code",
   "execution_count": 76,
   "metadata": {},
   "outputs": [],
   "source": [
    "class Student():\n",
    "    def __init__(self,name,reg,semester,gpa):\n",
    "        self.stud_name = name\n",
    "        self.stud_reg = reg\n",
    "        self.stud_semester = semester\n",
    "        self.stud_gpa = gpa\n",
    "        print(\"Student Is Created\")\n",
    "    def fee():\n",
    "        pass\n",
    "    def attendance(self):\n",
    "        print(f\"{self.stud_name}'s attendance is Not good\")\n",
    "    def sports(self):\n",
    "        print(f\"{self.stud_name} plays Cricket\")\n"
   ]
  },
  {
   "cell_type": "code",
   "execution_count": 77,
   "metadata": {},
   "outputs": [
    {
     "name": "stdout",
     "output_type": "stream",
     "text": [
      "Student Is Created\n"
     ]
    }
   ],
   "source": [
    "stud1 = Student('Rafay',51875,'7th',3.5)"
   ]
  },
  {
   "cell_type": "code",
   "execution_count": 78,
   "metadata": {},
   "outputs": [
    {
     "name": "stdout",
     "output_type": "stream",
     "text": [
      "Rafay plays Cricket\n"
     ]
    }
   ],
   "source": [
    "Student.sports(stud1)"
   ]
  },
  {
   "cell_type": "code",
   "execution_count": 79,
   "metadata": {},
   "outputs": [
    {
     "name": "stdout",
     "output_type": "stream",
     "text": [
      "Rafay's attendance is Not good\n"
     ]
    }
   ],
   "source": [
    "Student.attendance(stud1)"
   ]
  },
  {
   "cell_type": "code",
   "execution_count": null,
   "metadata": {},
   "outputs": [],
   "source": []
  }
 ],
 "metadata": {
  "kernelspec": {
   "display_name": "Python 3",
   "language": "python",
   "name": "python3"
  },
  "language_info": {
   "codemirror_mode": {
    "name": "ipython",
    "version": 3
   },
   "file_extension": ".py",
   "mimetype": "text/x-python",
   "name": "python",
   "nbconvert_exporter": "python",
   "pygments_lexer": "ipython3",
   "version": "3.7.6"
  }
 },
 "nbformat": 4,
 "nbformat_minor": 4
}
