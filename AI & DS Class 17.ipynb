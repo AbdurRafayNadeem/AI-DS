{
 "cells": [
  {
   "cell_type": "code",
   "execution_count": 9,
   "metadata": {},
   "outputs": [
    {
     "name": "stdout",
     "output_type": "stream",
     "text": [
      "Enter Your Guests Name Press q to exitrafay\n",
      "Enter Your Guests Name Press q to exitali\n",
      "Enter Your Guests Name Press q to exitnasir\n",
      "Enter Your Guests Name Press q to exitq\n"
     ]
    }
   ],
   "source": [
    "flag = True\n",
    "with open('names.txt','a') as obj:\n",
    "    while flag:\n",
    "        guest=input(\"Enter Your Guests Name Press q to exit\")\n",
    "        if(guest==\"q\"):\n",
    "            flag = False \n",
    "        else:\n",
    "            obj.write(guest+\"\\n\")"
   ]
  },
  {
   "cell_type": "code",
   "execution_count": 11,
   "metadata": {},
   "outputs": [
    {
     "name": "stdout",
     "output_type": "stream",
     "text": [
      "Enter Your Name PleaseRafay\n",
      "Enter Your Name PleaseAli\n",
      "Enter Your Name PleaseNasir\n",
      "Enter Your Name Pleaseq\n"
     ]
    }
   ],
   "source": [
    "flag = True\n",
    "with open('guests.txt','a') as obj:\n",
    "    while flag:\n",
    "        guest = input(\"Enter Your Name Please\")\n",
    "        if(guest ==\"q\"):\n",
    "            flag = False\n",
    "        else:\n",
    "            obj.write(\"Welcome \"+guest + \" to the party\"+\"\\n\")\n",
    "        "
   ]
  },
  {
   "cell_type": "code",
   "execution_count": null,
   "metadata": {},
   "outputs": [
    {
     "name": "stdout",
     "output_type": "stream",
     "text": [
      "Sir, can I have your name? Rafay\n",
      "Sorry, you are not invited..\n",
      "Enter q for quit or press anykey for continue..s\n",
      "Sir, can I have your name? rafay\n",
      "Welcome rafay\n"
     ]
    }
   ],
   "source": [
    "while True:\n",
    "    f = open(\"names.txt\", \"r\")\n",
    "    name = input('Sir, can I have your name? ')    \n",
    "    if name in f.read():\n",
    "        print(f'Welcome {name}')\n",
    "    else:\n",
    "        print('Sorry, you are not invited..')\n",
    "    if(input('Enter q for quit or press anykey for continue..').lower() == 'q'):\n",
    "        break;"
   ]
  },
  {
   "cell_type": "code",
   "execution_count": null,
   "metadata": {},
   "outputs": [],
   "source": []
  }
 ],
 "metadata": {
  "kernelspec": {
   "display_name": "Python 3",
   "language": "python",
   "name": "python3"
  },
  "language_info": {
   "codemirror_mode": {
    "name": "ipython",
    "version": 3
   },
   "file_extension": ".py",
   "mimetype": "text/x-python",
   "name": "python",
   "nbconvert_exporter": "python",
   "pygments_lexer": "ipython3",
   "version": "3.8.5"
  }
 },
 "nbformat": 4,
 "nbformat_minor": 4
}
